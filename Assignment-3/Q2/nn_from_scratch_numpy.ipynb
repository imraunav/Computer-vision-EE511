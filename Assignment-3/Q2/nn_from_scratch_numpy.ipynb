{
  "cells": [
    {
      "cell_type": "markdown",
      "metadata": {
        "id": "view-in-github",
        "colab_type": "text"
      },
      "source": [
        "<a href=\"https://colab.research.google.com/github/imraunav/Computer-vision-EE511/blob/main/nn_from_scratch_numpy.ipynb\" target=\"_parent\"><img src=\"https://colab.research.google.com/assets/colab-badge.svg\" alt=\"Open In Colab\"/></a>"
      ]
    },
    {
      "cell_type": "markdown",
      "metadata": {
        "id": "IUMOX5PFqo08"
      },
      "source": [
        "# Get MNIST Data"
      ]
    },
    {
      "cell_type": "code",
      "execution_count": null,
      "metadata": {
        "id": "2MBL710-pzRQ"
      },
      "outputs": [],
      "source": [
        "import torch\n",
        "from torchvision.datasets import MNIST\n",
        "import cv2\n",
        "import os\n",
        "import matplotlib.pyplot as plt\n",
        "import numpy as np"
      ]
    },
    {
      "cell_type": "code",
      "execution_count": null,
      "metadata": {
        "colab": {
          "base_uri": "https://localhost:8080/"
        },
        "id": "oOrRK6z2uKbT",
        "outputId": "1ac3035a-80ac-4673-bdc7-45139e93bbff"
      },
      "outputs": [
        {
          "output_type": "stream",
          "name": "stdout",
          "text": [
            "Downloading http://yann.lecun.com/exdb/mnist/train-images-idx3-ubyte.gz\n",
            "Downloading http://yann.lecun.com/exdb/mnist/train-images-idx3-ubyte.gz to ./MNIST/raw/train-images-idx3-ubyte.gz\n"
          ]
        },
        {
          "output_type": "stream",
          "name": "stderr",
          "text": [
            "100%|██████████| 9912422/9912422 [00:00<00:00, 23596848.01it/s]\n"
          ]
        },
        {
          "output_type": "stream",
          "name": "stdout",
          "text": [
            "Extracting ./MNIST/raw/train-images-idx3-ubyte.gz to ./MNIST/raw\n",
            "\n",
            "Downloading http://yann.lecun.com/exdb/mnist/train-labels-idx1-ubyte.gz\n",
            "Downloading http://yann.lecun.com/exdb/mnist/train-labels-idx1-ubyte.gz to ./MNIST/raw/train-labels-idx1-ubyte.gz\n"
          ]
        },
        {
          "output_type": "stream",
          "name": "stderr",
          "text": [
            "100%|██████████| 28881/28881 [00:00<00:00, 19246217.64it/s]\n"
          ]
        },
        {
          "output_type": "stream",
          "name": "stdout",
          "text": [
            "Extracting ./MNIST/raw/train-labels-idx1-ubyte.gz to ./MNIST/raw\n",
            "\n",
            "Downloading http://yann.lecun.com/exdb/mnist/t10k-images-idx3-ubyte.gz\n",
            "Downloading http://yann.lecun.com/exdb/mnist/t10k-images-idx3-ubyte.gz to ./MNIST/raw/t10k-images-idx3-ubyte.gz\n"
          ]
        },
        {
          "output_type": "stream",
          "name": "stderr",
          "text": [
            "100%|██████████| 1648877/1648877 [00:00<00:00, 25279783.15it/s]\n"
          ]
        },
        {
          "output_type": "stream",
          "name": "stdout",
          "text": [
            "Extracting ./MNIST/raw/t10k-images-idx3-ubyte.gz to ./MNIST/raw\n",
            "\n",
            "Downloading http://yann.lecun.com/exdb/mnist/t10k-labels-idx1-ubyte.gz\n",
            "Downloading http://yann.lecun.com/exdb/mnist/t10k-labels-idx1-ubyte.gz to ./MNIST/raw/t10k-labels-idx1-ubyte.gz\n"
          ]
        },
        {
          "output_type": "stream",
          "name": "stderr",
          "text": [
            "100%|██████████| 4542/4542 [00:00<00:00, 13549451.47it/s]"
          ]
        },
        {
          "output_type": "stream",
          "name": "stdout",
          "text": [
            "Extracting ./MNIST/raw/t10k-labels-idx1-ubyte.gz to ./MNIST/raw\n",
            "\n"
          ]
        },
        {
          "output_type": "stream",
          "name": "stderr",
          "text": [
            "\n"
          ]
        }
      ],
      "source": [
        "mnist_dataset = MNIST(root = './',\n",
        "      train = True,\n",
        "      transform = None,\n",
        "      target_transform = None,\n",
        "      download = True)"
      ]
    },
    {
      "cell_type": "code",
      "source": [],
      "metadata": {
        "id": "D99Rd9ZJxhd6"
      },
      "execution_count": null,
      "outputs": []
    },
    {
      "cell_type": "code",
      "source": [],
      "metadata": {
        "id": "goTiFKFXxhbk"
      },
      "execution_count": null,
      "outputs": []
    },
    {
      "cell_type": "markdown",
      "source": [
        "# Helper functions"
      ],
      "metadata": {
        "id": "yiGJ3EX2xfjP"
      }
    },
    {
      "cell_type": "code",
      "execution_count": null,
      "metadata": {
        "id": "4UjC6kdTwxuY"
      },
      "outputs": [],
      "source": [
        "# from mnist_get_data import extract_mnist\n",
        "# this is custom function for extracting mnist images and labesl from ubyte files\n",
        "def extract_mnist(image_f, label_f):\n",
        "\t'''\n",
        "\tThis function is used to extract image files and the corresponding labels from ubyte format and save them in seperate directory.\n",
        "\tSource: https://gist.github.com/fukuroder/caa351677bf718a8bfe6265c2a45211f\n",
        "\tP.S. - The source of the code is not working due to some bugs. This function has modifications to work as per my liking.\n",
        "\tParameters:\n",
        "\timage_f - full-path to the uncompressed images file\n",
        "\tlabels_f - full-path to the uncompressed labels file\n",
        "\n",
        "\tReturns:\n",
        "\tNone\n",
        "\t'''\n",
        "\twith open(image_f, 'rb') as f:\n",
        "\t\timages = f.read()\n",
        "\twith open(label_f, 'rb') as f:\n",
        "\t\tlabels = f.read()\n",
        "\n",
        "\timages = [d for d in images[16:]]\n",
        "\timages = np.array(images, dtype=np.uint8)\n",
        "\timages = images.reshape((-1,28,28))\n",
        "\n",
        "\toutdir = image_f + \"_folder\"\n",
        "\tif not os.path.exists(outdir):\n",
        "\t\tos.mkdir(outdir)\n",
        "\tfor k,image in enumerate(images):\n",
        "\t\tcv2.imwrite(os.path.join(outdir, '%05d.png' % (k,)), image)\n",
        "\n",
        "\tlabels = ['%05d.png %d' % (k, l) for k,l in enumerate(labels[8:])]\n",
        "\twith open('%s.txt' % label_f, 'w') as f:\n",
        "\t\tf.write(os.linesep.join(labels))"
      ]
    },
    {
      "cell_type": "code",
      "execution_count": null,
      "metadata": {
        "id": "_-gJVfMoxroS"
      },
      "outputs": [],
      "source": [
        "def process_mnist(img_path, label_file):\n",
        "    '''\n",
        "    Takes in image_directory and label_file_path and returns np.array's\n",
        "    '''\n",
        "    with open(label_file, mode='r') as f:\n",
        "        filelines = f.readlines()\n",
        "    label_dic = {}\n",
        "    for line in filelines:\n",
        "        key, value = line.split(sep=\" \")\n",
        "        label_dic[key] = int(value.removesuffix('\\n'))\n",
        "\n",
        "    imgs = []\n",
        "    labels = []\n",
        "\n",
        "    for filename in os.listdir(img_path):\n",
        "        img = cv2.imread(os.path.join(img_path, filename), cv2.IMREAD_ANYCOLOR)\n",
        "        imgs.append(img)\n",
        "\n",
        "        labels.append(label_dic[filename])\n",
        "\n",
        "    imgs = np.array(imgs)\n",
        "    labels = np.array(labels)\n",
        "\n",
        "    return imgs, labels"
      ]
    },
    {
      "cell_type": "code",
      "source": [
        "def calculate_metrics(confusion_matrix):\n",
        "    # Assuming confusion_matrix is a 2D list of shape (num_classes, num_classes)\n",
        "    num_classes = len(confusion_matrix)\n",
        "\n",
        "    # Calculate true positives, false positives, false negatives, and true negatives for each class\n",
        "    tp = [confusion_matrix[i][i] for i in range(num_classes)]\n",
        "    fp = [sum(confusion_matrix[j][i] for j in range(num_classes) if j != i) for i in range(num_classes)]\n",
        "    fn = [sum(confusion_matrix[i][j] for j in range(num_classes) if j != i) for i in range(num_classes)]\n",
        "    tn = [sum(confusion_matrix[i][j] for j in range(num_classes) for i in range(num_classes)) - tp[i] - fp[i] - fn[i] for i in range(num_classes)]\n",
        "\n",
        "    # Calculate accuracy for each class\n",
        "    accuracy = [((tp[i] + tn[i]) / (tp[i] + fp[i] + fn[i] + tn[i])) if (tp[i] + fp[i] + fn[i] + tn[i]) != 0 else 0 for i in range(num_classes)]\n",
        "\n",
        "    # Calculate precision for each class\n",
        "    precision = [tp[i] / (tp[i] + fp[i]) if (tp[i] + fp[i]) != 0 else 0 for i in range(num_classes)]\n",
        "\n",
        "    # Calculate recall for each class\n",
        "    recall = [tp[i] / (tp[i] + fn[i]) if (tp[i] + fn[i]) != 0 else 0 for i in range(num_classes)]\n",
        "\n",
        "    # Calculate F1-score for each class\n",
        "    f_score = [2 * (precision[i] * recall[i]) / (precision[i] + recall[i]) if (precision[i] + recall[i]) != 0 else 0 for i in range(num_classes)]\n",
        "\n",
        "    # Calculate micro-averaged metrics\n",
        "    micro_accuracy = sum(tp) / (sum(tp) + sum(fp) + sum(fn) + sum(tn)) if (sum(tp) + sum(fp) + sum(fn) + sum(tn)) != 0 else 0\n",
        "    micro_precision = sum(tp) / (sum(tp) + sum(fp)) if (sum(tp) + sum(fp)) != 0 else 0\n",
        "    micro_recall = sum(tp) / (sum(tp) + sum(fn)) if (sum(tp) + sum(fn)) != 0 else 0\n",
        "    micro_f_score = 2 * (micro_precision * micro_recall) / (micro_precision + micro_recall) if (micro_precision + micro_recall) != 0 else 0\n",
        "\n",
        "    return {\n",
        "        \"Accuracy\": accuracy,\n",
        "        \"Precision\": precision,\n",
        "        \"Recall\": recall,\n",
        "        \"F1-Score\": f_score,\n",
        "        \"Micro Accuracy\": micro_accuracy,\n",
        "        \"Micro Precision\": micro_precision,\n",
        "        \"Micro Recall\": micro_recall,\n",
        "        \"Micro F1-Score\": micro_f_score\n",
        "    }"
      ],
      "metadata": {
        "id": "mfcaPqhFxCWv"
      },
      "execution_count": null,
      "outputs": []
    },
    {
      "cell_type": "code",
      "execution_count": null,
      "metadata": {
        "id": "YBuCTZ-C1kxN"
      },
      "outputs": [],
      "source": [
        "def create_val_split(x_train, y_train):\n",
        "  x_train = np.array(x_train)\n",
        "  y_train = np.array(y_train)\n",
        "  idx = np.arange(0, 60_000)\n",
        "  np.random.shuffle(idx)\n",
        "  # idx\n",
        "  x_val = x_train[idx[50_000:]]\n",
        "  y_val = y_train[idx[50_000:]]\n",
        "\n",
        "  x_train = x_train[idx[:50_000]]\n",
        "  y_train = y_train[idx[:50_000]]\n",
        "\n",
        "  return x_train, y_train, x_val, y_val"
      ]
    },
    {
      "cell_type": "code",
      "source": [],
      "metadata": {
        "id": "dsLceIsMxiTG"
      },
      "execution_count": null,
      "outputs": []
    },
    {
      "cell_type": "code",
      "source": [],
      "metadata": {
        "id": "9hFy_Iq4xiRJ"
      },
      "execution_count": null,
      "outputs": []
    },
    {
      "cell_type": "markdown",
      "source": [
        "# Prepare dataset"
      ],
      "metadata": {
        "id": "pPgMLHUFxMAb"
      }
    },
    {
      "cell_type": "code",
      "execution_count": null,
      "metadata": {
        "id": "iBbyV7dhuu1S"
      },
      "outputs": [],
      "source": [
        "train_image = './MNIST/raw/train-images-idx3-ubyte'\n",
        "train_label = './MNIST/raw/train-labels-idx1-ubyte'\n",
        "test_image = './MNIST/raw/t10k-images-idx3-ubyte'\n",
        "test_label = './MNIST/raw/t10k-labels-idx1-ubyte'"
      ]
    },
    {
      "cell_type": "code",
      "execution_count": null,
      "metadata": {
        "id": "dS4ob6TNxGxy"
      },
      "outputs": [],
      "source": [
        "for image_f, label_f in [(train_image, train_label), (test_image, test_label)]:\n",
        "    extract_mnist(image_f, label_f)"
      ]
    },
    {
      "cell_type": "code",
      "execution_count": null,
      "metadata": {
        "id": "5zIU5peBxwQT"
      },
      "outputs": [],
      "source": [
        "train_img_path = './MNIST/raw/train-images-idx3-ubyte_folder'\n",
        "train_label_file = './MNIST/raw/train-labels-idx1-ubyte.txt'\n",
        "test_img_path = './MNIST/raw/t10k-images-idx3-ubyte_folder'\n",
        "test_label_file = './MNIST/raw/t10k-labels-idx1-ubyte.txt'"
      ]
    },
    {
      "cell_type": "code",
      "execution_count": null,
      "metadata": {
        "id": "SrHDHvcAx06i"
      },
      "outputs": [],
      "source": [
        "train_x, train_y = process_mnist(train_img_path, train_label_file)\n",
        "test_x, test_y = process_mnist(test_img_path, test_label_file)"
      ]
    },
    {
      "cell_type": "code",
      "execution_count": null,
      "metadata": {
        "colab": {
          "base_uri": "https://localhost:8080/",
          "height": 308
        },
        "id": "CFubdCyuyfPK",
        "outputId": "0ef6aea5-424a-4a44-baf6-e668e0b00dd2"
      },
      "outputs": [
        {
          "output_type": "display_data",
          "data": {
            "text/plain": [
              "<Figure size 640x480 with 2 Axes>"
            ],
            "image/png": "[encoded data removed]"
          },
          "metadata": {}
        }
      ],
      "source": [
        "idx = np.random.randint(0, 60_000)\n",
        "plt.subplot(1, 2, 1)\n",
        "plt.imshow(train_x[idx])\n",
        "plt.title(train_y[idx])\n",
        "\n",
        "idx = np.random.randint(0, 10_000)\n",
        "plt.subplot(1, 2, 2)\n",
        "plt.imshow(test_x[idx])\n",
        "plt.title(test_y[idx])\n",
        "\n",
        "plt.show()"
      ]
    },
    {
      "cell_type": "markdown",
      "metadata": {
        "id": "9xjV6QXDqrsl"
      },
      "source": [
        "# Define one layer classifier"
      ]
    },
    {
      "cell_type": "code",
      "execution_count": null,
      "metadata": {
        "id": "MskuQp1q2RlF"
      },
      "outputs": [],
      "source": [
        "# from tqdm import tqdm\n",
        "from tqdm import tqdm, tqdm_notebook\n",
        "seed = 1342869\n",
        "# seed = np.random.randint(10000000)\n",
        "# seed"
      ]
    },
    {
      "cell_type": "code",
      "execution_count": null,
      "metadata": {
        "id": "Rq0F1x3ZquBy"
      },
      "outputs": [],
      "source": [
        "class fcnn:\n",
        "    def __init__(self,\n",
        "                 node_layers = [2, 3, 3],\n",
        "                 n_hidden_layers = 1,\n",
        "                 learning_rate = 0.25,\n",
        "                 tol = 1e-3,\n",
        "                 max_epoch = 1000,\n",
        "                 output_activation = 'sigmoid'):\n",
        "        '''\n",
        "        Parameters:\n",
        "        node_layer: Number of nodes per layer, input layer + all hidden + output layer\n",
        "        n_hidden_layer: Number of hidden layers in the network\n",
        "        learning_rate: Constant learning rate\n",
        "        tol: Tolerance of error between consequtive epochs\n",
        "        max_epoch: Max number of epochs for training\n",
        "        output_activation: To define the output activation function\n",
        "\n",
        "        Returns:\n",
        "        None\n",
        "        '''\n",
        "        self.learning_rate = learning_rate\n",
        "        self.tol = tol\n",
        "        self.max_epoch = max_epoch\n",
        "        self.output_activation = output_activation\n",
        "        self.input_dim = node_layers[0]\n",
        "        self.nodes_h_dim = node_layers[1]\n",
        "        self.output_dim = node_layers[-1]\n",
        "        # initializing weights\n",
        "        self.Wh = np.random.randn(self.input_dim+1, self.nodes_h_dim) # a = W.T @ x; rows of Wh is the dimention of input\n",
        "        self.Wo = np.random.randn(self.nodes_h_dim, self.output_dim) # a = W.T @ x; rows of Wh is the dimention of input\n",
        "        return None\n",
        "\n",
        "    def logistic_sigmoid(self, x):\n",
        "        '''\n",
        "        Logistic sigmoidal function\n",
        "        '''\n",
        "        return 1/(1+np.exp(-x))\n",
        "\n",
        "    def inst_err(self, y, y_hat):\n",
        "        '''\n",
        "        Return the instantaneous error for each example\n",
        "        '''\n",
        "        return 0.5*(y-y_hat)**2\n",
        "\n",
        "    def forward_propagate(self, x):\n",
        "        '''\n",
        "        Computer the output of the network for a given example propagating forward in the network\n",
        "\n",
        "        Parameter:\n",
        "        Sample input vector\n",
        "\n",
        "        Return:\n",
        "        ho, h1 (returns in reverse order of operation)\n",
        "        '''\n",
        "        # input layer\n",
        "        x_hat = np.concatenate(([1], x)) # augmenting the input vector\n",
        "\n",
        "        # hidden layer\n",
        "        a1 = np.matmul(self.Wh.T, x_hat) # hidden layer activation value\n",
        "        h1 = self.logistic_sigmoid(a1) # hidden layer signal\n",
        "\n",
        "        #output layer\n",
        "        ao = np.matmul(self.Wo.T, h1) # output layer activation value\n",
        "        if self.output_activation == \"sigmoid\":\n",
        "            ho = self.logistic_sigmoid(ao) # output layer signal\n",
        "        elif self.output_activation == \"linear\":\n",
        "            ho = ao\n",
        "\n",
        "        return ho, ao, h1, a1\n",
        "\n",
        "    def backward_propagate(self, ho, h1, label, sample):\n",
        "        x_hat = np.concatenate(([1], sample)) # augmenting the input vector\n",
        "        if self.output_activation == \"sigmoid\":\n",
        "            delta_o = ((label-ho)*ho*(1-ho))\n",
        "        elif self.output_activation == \"linear\":\n",
        "            delta_o = (label-ho)\n",
        "\n",
        "        delta_h = np.matmul(self.Wo, delta_o)*h1*(1-h1)\n",
        "        self.update(delta_o, x_hat, delta_h, h1)\n",
        "        # return delta_o, delta_h\n",
        "\n",
        "    def update(self, delta_o, x_hat, delta_h, h1):\n",
        "        self.Wo += self.learning_rate * np.outer(h1, delta_o)\n",
        "        self.Wh += self.learning_rate*np.outer(x_hat, delta_h)\n",
        "\n",
        "    def fit(self, datas, labels, valid_data, valid_labels):\n",
        "        '''\n",
        "        This method fits the model to the required data\n",
        "        '''\n",
        "        err_epoch = []\n",
        "        valid_loss_epoch = []\n",
        "        # run epochs; stopping criteria 1\n",
        "        # valid_pred_labels = []\n",
        "        for epoch in range(self.max_epoch):\n",
        "            print(\"Epoch: \", epoch)\n",
        "            err = [] # store instantaneous error per example\n",
        "            for i in tqdm(range(len(datas))): # show label and data of each class\n",
        "                label, sample = labels[i], datas[i]\n",
        "                # forward propagate through the network\n",
        "                ho, _, h1, _ = self.forward_propagate(sample)\n",
        "                err.append(self.inst_err(label, ho)) # store instantenous error of each example\n",
        "\n",
        "                # update processs\n",
        "                self.backward_propagate(ho, h1, label, sample)\n",
        "            err_epoch.append(np.average(err)) # store average error per epoch\n",
        "\n",
        "            # find validation loss after each epoch\n",
        "            valid_loss_this_epoch = []\n",
        "            for label, sample in zip(valid_labels, valid_data):\n",
        "                ho, _, _, _ = self.forward_propagate(sample)\n",
        "                valid_loss_this_epoch.append(np.average(self.inst_err(label, ho)))\n",
        "            valid_loss_epoch.append(np.average(valid_loss_this_epoch))\n",
        "            print(f\"Train loss: {err_epoch[-1]}, Val loss: {valid_loss_epoch[-1]}\")\n",
        "\n",
        "        return err_epoch, valid_loss_epoch\n",
        "\n",
        "    def fit_classifier(self, x_train, y_train, x_val, y_val):\n",
        "      '''\n",
        "         This methods fits the model for classification\n",
        "      '''\n",
        "      # one_hot_coder\n",
        "      labels = {}\n",
        "      for i in range(10):\n",
        "        one_hot =  np.zeros((10))\n",
        "        one_hot[i] = 1\n",
        "        labels[i] = one_hot\n",
        "\n",
        "      y_train = [labels[y] for y in y_train]\n",
        "      y_val = [labels[y] for y in y_val]\n",
        "\n",
        "      x_train = np.reshape(x_train, (-1, 28*28))\n",
        "      x_val = np.reshape(x_val, (-1, 28*28))\n",
        "\n",
        "\n",
        "      return self.fit(x_train, y_train, x_val, y_val)\n",
        "\n",
        "    def predict(self, sample):\n",
        "        ho, _, _, _ = self.forward_propagate(sample)\n",
        "        return np.argmax(ho)\n"
      ]
    },
    {
      "cell_type": "code",
      "execution_count": null,
      "metadata": {
        "id": "RSBzS70kz8Qk"
      },
      "outputs": [],
      "source": [
        "# validation split\n",
        "x_test = np.array(test_x)\n",
        "y_test = np.array(test_y)\n",
        "x_train, y_train, x_val, y_val = create_val_split(train_x, train_y)"
      ]
    },
    {
      "cell_type": "code",
      "execution_count": null,
      "metadata": {
        "id": "1aQj40RhHjW3"
      },
      "outputs": [],
      "source": [
        "# Normalization\n",
        "x_train = x_train / 255\n",
        "x_val = x_val / 255\n",
        "x_test = x_test / 255"
      ]
    },
    {
      "cell_type": "code",
      "execution_count": null,
      "metadata": {
        "colab": {
          "base_uri": "https://localhost:8080/",
          "height": 308
        },
        "id": "_1mbJzfb1XuC",
        "outputId": "239913f1-60bb-40b6-9286-1454867f11ba"
      },
      "outputs": [
        {
          "output_type": "display_data",
          "data": {
            "text/plain": [
              "<Figure size 640x480 with 2 Axes>"
            ],
            "image/png": "[encoded data removed]"
          },
          "metadata": {}
        }
      ],
      "source": [
        "idx = np.random.randint(0, 50_000)\n",
        "plt.subplot(1, 2, 1)\n",
        "plt.imshow(x_train[idx])\n",
        "plt.title(y_train[idx])\n",
        "\n",
        "idx = np.random.randint(0, 10_000)\n",
        "plt.subplot(1, 2, 2)\n",
        "plt.imshow(x_val[idx])\n",
        "plt.title(y_val[idx])\n",
        "\n",
        "plt.show()"
      ]
    },
    {
      "cell_type": "code",
      "execution_count": null,
      "metadata": {
        "id": "r3-HQtUnrCMe"
      },
      "outputs": [],
      "source": [
        "max_epoch = 100\n",
        "neta = 0.05\n",
        "classifier = fcnn(\n",
        "    node_layers=[28*28, 20, 10],\n",
        "    max_epoch=max_epoch,\n",
        "    learning_rate=neta,\n",
        ")"
      ]
    },
    {
      "cell_type": "code",
      "execution_count": null,
      "metadata": {
        "colab": {
          "base_uri": "https://localhost:8080/"
        },
        "id": "ijLS6RdI2Uty",
        "outputId": "0158983e-6808-41c7-85bf-337238a70832"
      },
      "outputs": [
        {
          "output_type": "stream",
          "name": "stdout",
          "text": [
            "Epoch:  0\n"
          ]
        },
        {
          "output_type": "stream",
          "name": "stderr",
          "text": [
            "100%|██████████| 50000/50000 [00:12<00:00, 4081.97it/s]\n"
          ]
        },
        {
          "output_type": "stream",
          "name": "stdout",
          "text": [
            "Train loss: 0.02594311345133301, Val loss: 0.015535904597013697\n",
            "Epoch:  1\n"
          ]
        },
        {
          "output_type": "stream",
          "name": "stderr",
          "text": [
            "100%|██████████| 50000/50000 [00:12<00:00, 3948.88it/s]\n"
          ]
        },
        {
          "output_type": "stream",
          "name": "stdout",
          "text": [
            "Train loss: 0.012982327277135918, Val loss: 0.011175550966529807\n",
            "Epoch:  2\n"
          ]
        },
        {
          "output_type": "stream",
          "name": "stderr",
          "text": [
            "100%|██████████| 50000/50000 [00:13<00:00, 3761.44it/s]\n"
          ]
        },
        {
          "output_type": "stream",
          "name": "stdout",
          "text": [
            "Train loss: 0.010148304105722655, Val loss: 0.009569011990904014\n",
            "Epoch:  3\n"
          ]
        },
        {
          "output_type": "stream",
          "name": "stderr",
          "text": [
            "100%|██████████| 50000/50000 [00:10<00:00, 4816.55it/s]\n"
          ]
        },
        {
          "output_type": "stream",
          "name": "stdout",
          "text": [
            "Train loss: 0.008845024831189931, Val loss: 0.008775974232490054\n",
            "Epoch:  4\n"
          ]
        },
        {
          "output_type": "stream",
          "name": "stderr",
          "text": [
            "100%|██████████| 50000/50000 [00:10<00:00, 4769.88it/s]\n"
          ]
        },
        {
          "output_type": "stream",
          "name": "stdout",
          "text": [
            "Train loss: 0.008054880357202043, Val loss: 0.008232345857819878\n",
            "Epoch:  5\n"
          ]
        },
        {
          "output_type": "stream",
          "name": "stderr",
          "text": [
            "100%|██████████| 50000/50000 [00:13<00:00, 3812.68it/s]\n"
          ]
        },
        {
          "output_type": "stream",
          "name": "stdout",
          "text": [
            "Train loss: 0.007511912119723862, Val loss: 0.00785906290669599\n",
            "Epoch:  6\n"
          ]
        },
        {
          "output_type": "stream",
          "name": "stderr",
          "text": [
            "100%|██████████| 50000/50000 [00:13<00:00, 3690.57it/s]\n"
          ]
        },
        {
          "output_type": "stream",
          "name": "stdout",
          "text": [
            "Train loss: 0.007122105873046243, Val loss: 0.0075790259380705775\n",
            "Epoch:  7\n"
          ]
        },
        {
          "output_type": "stream",
          "name": "stderr",
          "text": [
            "100%|██████████| 50000/50000 [00:13<00:00, 3746.54it/s]\n"
          ]
        },
        {
          "output_type": "stream",
          "name": "stdout",
          "text": [
            "Train loss: 0.0068188506722939735, Val loss: 0.007372047242444941\n",
            "Epoch:  8\n"
          ]
        },
        {
          "output_type": "stream",
          "name": "stderr",
          "text": [
            "100%|██████████| 50000/50000 [00:12<00:00, 4058.44it/s]\n"
          ]
        },
        {
          "output_type": "stream",
          "name": "stdout",
          "text": [
            "Train loss: 0.006565422102430546, Val loss: 0.007208581051109641\n",
            "Epoch:  9\n"
          ]
        },
        {
          "output_type": "stream",
          "name": "stderr",
          "text": [
            "100%|██████████| 50000/50000 [00:09<00:00, 5404.61it/s]\n"
          ]
        },
        {
          "output_type": "stream",
          "name": "stdout",
          "text": [
            "Train loss: 0.006350095013289074, Val loss: 0.0070636338365803394\n",
            "Epoch:  10\n"
          ]
        },
        {
          "output_type": "stream",
          "name": "stderr",
          "text": [
            "100%|██████████| 50000/50000 [00:13<00:00, 3826.13it/s]\n"
          ]
        },
        {
          "output_type": "stream",
          "name": "stdout",
          "text": [
            "Train loss: 0.006159320405342713, Val loss: 0.0069330307855705155\n",
            "Epoch:  11\n"
          ]
        },
        {
          "output_type": "stream",
          "name": "stderr",
          "text": [
            "100%|██████████| 50000/50000 [00:12<00:00, 3867.94it/s]\n"
          ]
        },
        {
          "output_type": "stream",
          "name": "stdout",
          "text": [
            "Train loss: 0.005988223169239699, Val loss: 0.006821724464829425\n",
            "Epoch:  12\n"
          ]
        },
        {
          "output_type": "stream",
          "name": "stderr",
          "text": [
            "100%|██████████| 50000/50000 [00:13<00:00, 3825.02it/s]\n"
          ]
        },
        {
          "output_type": "stream",
          "name": "stdout",
          "text": [
            "Train loss: 0.005835277561389689, Val loss: 0.006724635009758726\n",
            "Epoch:  13\n"
          ]
        },
        {
          "output_type": "stream",
          "name": "stderr",
          "text": [
            "100%|██████████| 50000/50000 [00:10<00:00, 4564.31it/s]\n"
          ]
        },
        {
          "output_type": "stream",
          "name": "stdout",
          "text": [
            "Train loss: 0.0056991822833317544, Val loss: 0.006639244112587227\n",
            "Epoch:  14\n"
          ]
        },
        {
          "output_type": "stream",
          "name": "stderr",
          "text": [
            "100%|██████████| 50000/50000 [00:10<00:00, 4788.93it/s]\n"
          ]
        },
        {
          "output_type": "stream",
          "name": "stdout",
          "text": [
            "Train loss: 0.005579637378934225, Val loss: 0.006568256767430968\n",
            "Epoch:  15\n"
          ]
        },
        {
          "output_type": "stream",
          "name": "stderr",
          "text": [
            "100%|██████████| 50000/50000 [00:13<00:00, 3771.00it/s]\n"
          ]
        },
        {
          "output_type": "stream",
          "name": "stdout",
          "text": [
            "Train loss: 0.00547314735067547, Val loss: 0.006509719112925488\n",
            "Epoch:  16\n"
          ]
        },
        {
          "output_type": "stream",
          "name": "stderr",
          "text": [
            "100%|██████████| 50000/50000 [00:13<00:00, 3822.54it/s]\n"
          ]
        },
        {
          "output_type": "stream",
          "name": "stdout",
          "text": [
            "Train loss: 0.005374430549484043, Val loss: 0.006460706316164061\n",
            "Epoch:  17\n"
          ]
        },
        {
          "output_type": "stream",
          "name": "stderr",
          "text": [
            "100%|██████████| 50000/50000 [00:12<00:00, 3875.13it/s]\n"
          ]
        },
        {
          "output_type": "stream",
          "name": "stdout",
          "text": [
            "Train loss: 0.0052821235538367635, Val loss: 0.006417897997831231\n",
            "Epoch:  18\n"
          ]
        },
        {
          "output_type": "stream",
          "name": "stderr",
          "text": [
            "100%|██████████| 50000/50000 [00:10<00:00, 4983.11it/s]\n"
          ]
        },
        {
          "output_type": "stream",
          "name": "stdout",
          "text": [
            "Train loss: 0.005194509117806581, Val loss: 0.006377767376995307\n",
            "Epoch:  19\n"
          ]
        },
        {
          "output_type": "stream",
          "name": "stderr",
          "text": [
            "100%|██████████| 50000/50000 [00:10<00:00, 4574.81it/s]\n"
          ]
        },
        {
          "output_type": "stream",
          "name": "stdout",
          "text": [
            "Train loss: 0.005112737668335457, Val loss: 0.0063377087061020085\n",
            "Epoch:  20\n"
          ]
        },
        {
          "output_type": "stream",
          "name": "stderr",
          "text": [
            "100%|██████████| 50000/50000 [00:12<00:00, 3902.71it/s]\n"
          ]
        },
        {
          "output_type": "stream",
          "name": "stdout",
          "text": [
            "Train loss: 0.0050357339823401594, Val loss: 0.006297772218005926\n",
            "Epoch:  21\n"
          ]
        },
        {
          "output_type": "stream",
          "name": "stderr",
          "text": [
            "100%|██████████| 50000/50000 [00:13<00:00, 3841.39it/s]\n"
          ]
        },
        {
          "output_type": "stream",
          "name": "stdout",
          "text": [
            "Train loss: 0.004963862328249251, Val loss: 0.006259195872336188\n",
            "Epoch:  22\n"
          ]
        },
        {
          "output_type": "stream",
          "name": "stderr",
          "text": [
            "100%|██████████| 50000/50000 [00:12<00:00, 4112.23it/s]\n"
          ]
        },
        {
          "output_type": "stream",
          "name": "stdout",
          "text": [
            "Train loss: 0.0048975610195622545, Val loss: 0.00622424635359736\n",
            "Epoch:  23\n"
          ]
        },
        {
          "output_type": "stream",
          "name": "stderr",
          "text": [
            "100%|██████████| 50000/50000 [00:09<00:00, 5390.21it/s]\n"
          ]
        },
        {
          "output_type": "stream",
          "name": "stdout",
          "text": [
            "Train loss: 0.004834823607617463, Val loss: 0.006193498047705643\n",
            "Epoch:  24\n"
          ]
        },
        {
          "output_type": "stream",
          "name": "stderr",
          "text": [
            "100%|██████████| 50000/50000 [00:12<00:00, 4091.14it/s]\n"
          ]
        },
        {
          "output_type": "stream",
          "name": "stdout",
          "text": [
            "Train loss: 0.004774989136643331, Val loss: 0.006166595579634006\n",
            "Epoch:  25\n"
          ]
        },
        {
          "output_type": "stream",
          "name": "stderr",
          "text": [
            "100%|██████████| 50000/50000 [00:12<00:00, 3914.02it/s]\n"
          ]
        },
        {
          "output_type": "stream",
          "name": "stdout",
          "text": [
            "Train loss: 0.0047181106212573175, Val loss: 0.006144031375500577\n",
            "Epoch:  26\n"
          ]
        },
        {
          "output_type": "stream",
          "name": "stderr",
          "text": [
            "100%|██████████| 50000/50000 [00:13<00:00, 3818.12it/s]\n"
          ]
        },
        {
          "output_type": "stream",
          "name": "stdout",
          "text": [
            "Train loss: 0.00466480315761329, Val loss: 0.006124584222857381\n",
            "Epoch:  27\n"
          ]
        },
        {
          "output_type": "stream",
          "name": "stderr",
          "text": [
            "100%|██████████| 50000/50000 [00:11<00:00, 4504.80it/s]\n"
          ]
        },
        {
          "output_type": "stream",
          "name": "stdout",
          "text": [
            "Train loss: 0.004614626579261131, Val loss: 0.006105883023509227\n",
            "Epoch:  28\n"
          ]
        },
        {
          "output_type": "stream",
          "name": "stderr",
          "text": [
            "100%|██████████| 50000/50000 [00:09<00:00, 5016.75it/s]\n"
          ]
        },
        {
          "output_type": "stream",
          "name": "stdout",
          "text": [
            "Train loss: 0.004567577525163176, Val loss: 0.006087249656911291\n",
            "Epoch:  29\n"
          ]
        },
        {
          "output_type": "stream",
          "name": "stderr",
          "text": [
            "100%|██████████| 50000/50000 [00:13<00:00, 3840.40it/s]\n"
          ]
        },
        {
          "output_type": "stream",
          "name": "stdout",
          "text": [
            "Train loss: 0.004522810263587697, Val loss: 0.006069195100561835\n",
            "Epoch:  30\n"
          ]
        },
        {
          "output_type": "stream",
          "name": "stderr",
          "text": [
            "100%|██████████| 50000/50000 [00:13<00:00, 3842.13it/s]\n"
          ]
        },
        {
          "output_type": "stream",
          "name": "stdout",
          "text": [
            "Train loss: 0.004479660481379292, Val loss: 0.006051507339409937\n",
            "Epoch:  31\n"
          ]
        },
        {
          "output_type": "stream",
          "name": "stderr",
          "text": [
            "100%|██████████| 50000/50000 [00:13<00:00, 3803.19it/s]\n"
          ]
        },
        {
          "output_type": "stream",
          "name": "stdout",
          "text": [
            "Train loss: 0.00443819003283178, Val loss: 0.006033730889471084\n",
            "Epoch:  32\n"
          ]
        },
        {
          "output_type": "stream",
          "name": "stderr",
          "text": [
            "100%|██████████| 50000/50000 [00:09<00:00, 5050.81it/s]\n"
          ]
        },
        {
          "output_type": "stream",
          "name": "stdout",
          "text": [
            "Train loss: 0.004398025411579299, Val loss: 0.006019220356065658\n",
            "Epoch:  33\n"
          ]
        },
        {
          "output_type": "stream",
          "name": "stderr",
          "text": [
            "100%|██████████| 50000/50000 [00:11<00:00, 4496.00it/s]\n"
          ]
        },
        {
          "output_type": "stream",
          "name": "stdout",
          "text": [
            "Train loss: 0.0043598761920902295, Val loss: 0.006007049902943161\n",
            "Epoch:  34\n"
          ]
        },
        {
          "output_type": "stream",
          "name": "stderr",
          "text": [
            "100%|██████████| 50000/50000 [00:13<00:00, 3830.00it/s]\n"
          ]
        },
        {
          "output_type": "stream",
          "name": "stdout",
          "text": [
            "Train loss: 0.004322832911918345, Val loss: 0.005994991810038672\n",
            "Epoch:  35\n"
          ]
        },
        {
          "output_type": "stream",
          "name": "stderr",
          "text": [
            "100%|██████████| 50000/50000 [00:12<00:00, 3847.06it/s]\n"
          ]
        },
        {
          "output_type": "stream",
          "name": "stdout",
          "text": [
            "Train loss: 0.004286676539238007, Val loss: 0.005982457136411702\n",
            "Epoch:  36\n"
          ]
        },
        {
          "output_type": "stream",
          "name": "stderr",
          "text": [
            "100%|██████████| 50000/50000 [00:12<00:00, 3990.98it/s]\n"
          ]
        },
        {
          "output_type": "stream",
          "name": "stdout",
          "text": [
            "Train loss: 0.0042516915498205556, Val loss: 0.005969112105997168\n",
            "Epoch:  37\n"
          ]
        },
        {
          "output_type": "stream",
          "name": "stderr",
          "text": [
            "100%|██████████| 50000/50000 [00:09<00:00, 5372.84it/s]\n"
          ]
        },
        {
          "output_type": "stream",
          "name": "stdout",
          "text": [
            "Train loss: 0.004217894739861967, Val loss: 0.005955858481038126\n",
            "Epoch:  38\n"
          ]
        },
        {
          "output_type": "stream",
          "name": "stderr",
          "text": [
            "100%|██████████| 50000/50000 [00:12<00:00, 4082.72it/s]\n"
          ]
        },
        {
          "output_type": "stream",
          "name": "stdout",
          "text": [
            "Train loss: 0.004185941828585786, Val loss: 0.0059427568943068235\n",
            "Epoch:  39\n"
          ]
        },
        {
          "output_type": "stream",
          "name": "stderr",
          "text": [
            "100%|██████████| 50000/50000 [00:12<00:00, 3956.32it/s]\n"
          ]
        },
        {
          "output_type": "stream",
          "name": "stdout",
          "text": [
            "Train loss: 0.004155320718760328, Val loss: 0.005929066681420685\n",
            "Epoch:  40\n"
          ]
        },
        {
          "output_type": "stream",
          "name": "stderr",
          "text": [
            "100%|██████████| 50000/50000 [00:13<00:00, 3813.99it/s]\n"
          ]
        },
        {
          "output_type": "stream",
          "name": "stdout",
          "text": [
            "Train loss: 0.00412539447058593, Val loss: 0.005915752561498533\n",
            "Epoch:  41\n"
          ]
        },
        {
          "output_type": "stream",
          "name": "stderr",
          "text": [
            "100%|██████████| 50000/50000 [00:11<00:00, 4382.38it/s]\n"
          ]
        },
        {
          "output_type": "stream",
          "name": "stdout",
          "text": [
            "Train loss: 0.004096750527623858, Val loss: 0.0059028739663079125\n",
            "Epoch:  42\n"
          ]
        },
        {
          "output_type": "stream",
          "name": "stderr",
          "text": [
            "100%|██████████| 50000/50000 [00:09<00:00, 5124.69it/s]\n"
          ]
        },
        {
          "output_type": "stream",
          "name": "stdout",
          "text": [
            "Train loss: 0.004068990281944313, Val loss: 0.005891443544443622\n",
            "Epoch:  43\n"
          ]
        },
        {
          "output_type": "stream",
          "name": "stderr",
          "text": [
            "100%|██████████| 50000/50000 [00:13<00:00, 3837.84it/s]\n"
          ]
        },
        {
          "output_type": "stream",
          "name": "stdout",
          "text": [
            "Train loss: 0.004041416773474128, Val loss: 0.005882577743664562\n",
            "Epoch:  44\n"
          ]
        },
        {
          "output_type": "stream",
          "name": "stderr",
          "text": [
            "100%|██████████| 50000/50000 [00:12<00:00, 3885.79it/s]\n"
          ]
        },
        {
          "output_type": "stream",
          "name": "stdout",
          "text": [
            "Train loss: 0.004014773602290444, Val loss: 0.005874259416747327\n",
            "Epoch:  45\n"
          ]
        },
        {
          "output_type": "stream",
          "name": "stderr",
          "text": [
            "100%|██████████| 50000/50000 [00:12<00:00, 3851.16it/s]\n"
          ]
        },
        {
          "output_type": "stream",
          "name": "stdout",
          "text": [
            "Train loss: 0.003989401164129459, Val loss: 0.005865559729392099\n",
            "Epoch:  46\n"
          ]
        },
        {
          "output_type": "stream",
          "name": "stderr",
          "text": [
            "100%|██████████| 50000/50000 [00:10<00:00, 4890.53it/s]\n"
          ]
        },
        {
          "output_type": "stream",
          "name": "stdout",
          "text": [
            "Train loss: 0.003965106076586173, Val loss: 0.005856375067791656\n",
            "Epoch:  47\n"
          ]
        },
        {
          "output_type": "stream",
          "name": "stderr",
          "text": [
            "100%|██████████| 50000/50000 [00:11<00:00, 4527.65it/s]\n"
          ]
        },
        {
          "output_type": "stream",
          "name": "stdout",
          "text": [
            "Train loss: 0.003941623334143018, Val loss: 0.005847018631961793\n",
            "Epoch:  48\n"
          ]
        },
        {
          "output_type": "stream",
          "name": "stderr",
          "text": [
            "100%|██████████| 50000/50000 [00:12<00:00, 3906.01it/s]\n"
          ]
        },
        {
          "output_type": "stream",
          "name": "stdout",
          "text": [
            "Train loss: 0.003918624854825565, Val loss: 0.005838862454772731\n",
            "Epoch:  49\n"
          ]
        },
        {
          "output_type": "stream",
          "name": "stderr",
          "text": [
            "100%|██████████| 50000/50000 [00:13<00:00, 3811.96it/s]\n"
          ]
        },
        {
          "output_type": "stream",
          "name": "stdout",
          "text": [
            "Train loss: 0.003896036300299014, Val loss: 0.005832039629584127\n",
            "Epoch:  50\n"
          ]
        },
        {
          "output_type": "stream",
          "name": "stderr",
          "text": [
            "100%|██████████| 50000/50000 [00:12<00:00, 4103.39it/s]\n"
          ]
        },
        {
          "output_type": "stream",
          "name": "stdout",
          "text": [
            "Train loss: 0.003873888947970058, Val loss: 0.005825581897371242\n",
            "Epoch:  51\n"
          ]
        },
        {
          "output_type": "stream",
          "name": "stderr",
          "text": [
            "100%|██████████| 50000/50000 [00:09<00:00, 5335.23it/s]\n"
          ]
        },
        {
          "output_type": "stream",
          "name": "stdout",
          "text": [
            "Train loss: 0.00385218108734379, Val loss: 0.005819547261730791\n",
            "Epoch:  52\n"
          ]
        },
        {
          "output_type": "stream",
          "name": "stderr",
          "text": [
            "100%|██████████| 50000/50000 [00:12<00:00, 4010.82it/s]\n"
          ]
        },
        {
          "output_type": "stream",
          "name": "stdout",
          "text": [
            "Train loss: 0.0038306576716871966, Val loss: 0.005812909676674745\n",
            "Epoch:  53\n"
          ]
        },
        {
          "output_type": "stream",
          "name": "stderr",
          "text": [
            "100%|██████████| 50000/50000 [00:13<00:00, 3770.99it/s]\n"
          ]
        },
        {
          "output_type": "stream",
          "name": "stdout",
          "text": [
            "Train loss: 0.003809077123256193, Val loss: 0.005805439521899532\n",
            "Epoch:  54\n"
          ]
        },
        {
          "output_type": "stream",
          "name": "stderr",
          "text": [
            "100%|██████████| 50000/50000 [00:13<00:00, 3821.70it/s]\n"
          ]
        },
        {
          "output_type": "stream",
          "name": "stdout",
          "text": [
            "Train loss: 0.0037877267936233644, Val loss: 0.005797895927109325\n",
            "Epoch:  55\n"
          ]
        },
        {
          "output_type": "stream",
          "name": "stderr",
          "text": [
            "100%|██████████| 50000/50000 [00:11<00:00, 4468.30it/s]\n"
          ]
        },
        {
          "output_type": "stream",
          "name": "stdout",
          "text": [
            "Train loss: 0.0037669434283328688, Val loss: 0.005790394854564714\n",
            "Epoch:  56\n"
          ]
        },
        {
          "output_type": "stream",
          "name": "stderr",
          "text": [
            "100%|██████████| 50000/50000 [00:10<00:00, 4854.09it/s]\n"
          ]
        },
        {
          "output_type": "stream",
          "name": "stdout",
          "text": [
            "Train loss: 0.0037467155617755305, Val loss: 0.005782998142759775\n",
            "Epoch:  57\n"
          ]
        },
        {
          "output_type": "stream",
          "name": "stderr",
          "text": [
            "100%|██████████| 50000/50000 [00:12<00:00, 3880.52it/s]\n"
          ]
        },
        {
          "output_type": "stream",
          "name": "stdout",
          "text": [
            "Train loss: 0.0037269198727095244, Val loss: 0.005775806575602165\n",
            "Epoch:  58\n"
          ]
        },
        {
          "output_type": "stream",
          "name": "stderr",
          "text": [
            "100%|██████████| 50000/50000 [00:12<00:00, 3848.97it/s]\n"
          ]
        },
        {
          "output_type": "stream",
          "name": "stdout",
          "text": [
            "Train loss: 0.0037074732731330953, Val loss: 0.005769034909984509\n",
            "Epoch:  59\n"
          ]
        },
        {
          "output_type": "stream",
          "name": "stderr",
          "text": [
            "100%|██████████| 50000/50000 [00:13<00:00, 3784.12it/s]\n"
          ]
        },
        {
          "output_type": "stream",
          "name": "stdout",
          "text": [
            "Train loss: 0.003688341373956617, Val loss: 0.005762782850329762\n",
            "Epoch:  60\n"
          ]
        },
        {
          "output_type": "stream",
          "name": "stderr",
          "text": [
            "100%|██████████| 50000/50000 [00:10<00:00, 4554.37it/s]\n"
          ]
        },
        {
          "output_type": "stream",
          "name": "stdout",
          "text": [
            "Train loss: 0.0036694033397919952, Val loss: 0.005755877816119414\n",
            "Epoch:  61\n"
          ]
        },
        {
          "output_type": "stream",
          "name": "stderr",
          "text": [
            "100%|██████████| 50000/50000 [00:10<00:00, 4844.71it/s]\n"
          ]
        },
        {
          "output_type": "stream",
          "name": "stdout",
          "text": [
            "Train loss: 0.00365093808118633, Val loss: 0.005748546987833552\n",
            "Epoch:  62\n"
          ]
        },
        {
          "output_type": "stream",
          "name": "stderr",
          "text": [
            "100%|██████████| 50000/50000 [00:13<00:00, 3748.96it/s]\n"
          ]
        },
        {
          "output_type": "stream",
          "name": "stdout",
          "text": [
            "Train loss: 0.0036329615406813717, Val loss: 0.005742199781071982\n",
            "Epoch:  63\n"
          ]
        },
        {
          "output_type": "stream",
          "name": "stderr",
          "text": [
            "100%|██████████| 50000/50000 [00:13<00:00, 3785.89it/s]\n"
          ]
        },
        {
          "output_type": "stream",
          "name": "stdout",
          "text": [
            "Train loss: 0.003615535630308226, Val loss: 0.005736856322713469\n",
            "Epoch:  64\n"
          ]
        },
        {
          "output_type": "stream",
          "name": "stderr",
          "text": [
            "100%|██████████| 50000/50000 [00:13<00:00, 3790.09it/s]\n"
          ]
        },
        {
          "output_type": "stream",
          "name": "stdout",
          "text": [
            "Train loss: 0.0035985003085548155, Val loss: 0.005732389804321722\n",
            "Epoch:  65\n"
          ]
        },
        {
          "output_type": "stream",
          "name": "stderr",
          "text": [
            "100%|██████████| 50000/50000 [00:10<00:00, 4650.33it/s]\n"
          ]
        },
        {
          "output_type": "stream",
          "name": "stdout",
          "text": [
            "Train loss: 0.003581859804538295, Val loss: 0.00572887702930596\n",
            "Epoch:  66\n"
          ]
        },
        {
          "output_type": "stream",
          "name": "stderr",
          "text": [
            "100%|██████████| 50000/50000 [00:10<00:00, 4861.20it/s]\n"
          ]
        },
        {
          "output_type": "stream",
          "name": "stdout",
          "text": [
            "Train loss: 0.0035656224398999715, Val loss: 0.005726151818460302\n",
            "Epoch:  67\n"
          ]
        },
        {
          "output_type": "stream",
          "name": "stderr",
          "text": [
            "100%|██████████| 50000/50000 [00:13<00:00, 3713.46it/s]\n"
          ]
        },
        {
          "output_type": "stream",
          "name": "stdout",
          "text": [
            "Train loss: 0.0035497545668623483, Val loss: 0.0057238326672449\n",
            "Epoch:  68\n"
          ]
        },
        {
          "output_type": "stream",
          "name": "stderr",
          "text": [
            "100%|██████████| 50000/50000 [00:12<00:00, 3865.59it/s]\n"
          ]
        },
        {
          "output_type": "stream",
          "name": "stdout",
          "text": [
            "Train loss: 0.00353414909179506, Val loss: 0.0057217852543262285\n",
            "Epoch:  69\n"
          ]
        },
        {
          "output_type": "stream",
          "name": "stderr",
          "text": [
            "100%|██████████| 50000/50000 [00:13<00:00, 3774.67it/s]\n"
          ]
        },
        {
          "output_type": "stream",
          "name": "stdout",
          "text": [
            "Train loss: 0.0035187374485376884, Val loss: 0.005720037286044218\n",
            "Epoch:  70\n"
          ]
        },
        {
          "output_type": "stream",
          "name": "stderr",
          "text": [
            "100%|██████████| 50000/50000 [00:10<00:00, 4861.63it/s]\n"
          ]
        },
        {
          "output_type": "stream",
          "name": "stdout",
          "text": [
            "Train loss: 0.003503651128477645, Val loss: 0.005718352423567912\n",
            "Epoch:  71\n"
          ]
        },
        {
          "output_type": "stream",
          "name": "stderr",
          "text": [
            "100%|██████████| 50000/50000 [00:10<00:00, 4576.16it/s]\n"
          ]
        },
        {
          "output_type": "stream",
          "name": "stdout",
          "text": [
            "Train loss: 0.003489929787096125, Val loss: 0.005717609888600595\n",
            "Epoch:  72\n"
          ]
        },
        {
          "output_type": "stream",
          "name": "stderr",
          "text": [
            "100%|██████████| 50000/50000 [00:12<00:00, 3850.90it/s]\n"
          ]
        },
        {
          "output_type": "stream",
          "name": "stdout",
          "text": [
            "Train loss: 0.003474867730376826, Val loss: 0.005716429232971111\n",
            "Epoch:  73\n"
          ]
        },
        {
          "output_type": "stream",
          "name": "stderr",
          "text": [
            "100%|██████████| 50000/50000 [00:13<00:00, 3768.73it/s]\n"
          ]
        },
        {
          "output_type": "stream",
          "name": "stdout",
          "text": [
            "Train loss: 0.0034605283838755117, Val loss: 0.005714083461914275\n",
            "Epoch:  74\n"
          ]
        },
        {
          "output_type": "stream",
          "name": "stderr",
          "text": [
            "100%|██████████| 50000/50000 [00:13<00:00, 3751.17it/s]\n"
          ]
        },
        {
          "output_type": "stream",
          "name": "stdout",
          "text": [
            "Train loss: 0.0034468047919853383, Val loss: 0.005713102508505331\n",
            "Epoch:  75\n"
          ]
        },
        {
          "output_type": "stream",
          "name": "stderr",
          "text": [
            "100%|██████████| 50000/50000 [00:09<00:00, 5012.51it/s]\n"
          ]
        },
        {
          "output_type": "stream",
          "name": "stdout",
          "text": [
            "Train loss: 0.003433905709621704, Val loss: 0.005712563268314902\n",
            "Epoch:  76\n"
          ]
        },
        {
          "output_type": "stream",
          "name": "stderr",
          "text": [
            "100%|██████████| 50000/50000 [00:11<00:00, 4379.15it/s]\n"
          ]
        },
        {
          "output_type": "stream",
          "name": "stdout",
          "text": [
            "Train loss: 0.00342084968836159, Val loss: 0.0057126481308360745\n",
            "Epoch:  77\n"
          ]
        },
        {
          "output_type": "stream",
          "name": "stderr",
          "text": [
            "100%|██████████| 50000/50000 [00:13<00:00, 3822.13it/s]\n"
          ]
        },
        {
          "output_type": "stream",
          "name": "stdout",
          "text": [
            "Train loss: 0.0034072902163183125, Val loss: 0.005713554406739682\n",
            "Epoch:  78\n"
          ]
        },
        {
          "output_type": "stream",
          "name": "stderr",
          "text": [
            "100%|██████████| 50000/50000 [00:13<00:00, 3828.34it/s]\n"
          ]
        },
        {
          "output_type": "stream",
          "name": "stdout",
          "text": [
            "Train loss: 0.0033936979422294488, Val loss: 0.005715407362296619\n",
            "Epoch:  79\n"
          ]
        },
        {
          "output_type": "stream",
          "name": "stderr",
          "text": [
            "100%|██████████| 50000/50000 [00:12<00:00, 3991.97it/s]\n"
          ]
        },
        {
          "output_type": "stream",
          "name": "stdout",
          "text": [
            "Train loss: 0.0033804694346972843, Val loss: 0.005717940601796125\n",
            "Epoch:  80\n"
          ]
        },
        {
          "output_type": "stream",
          "name": "stderr",
          "text": [
            "100%|██████████| 50000/50000 [00:09<00:00, 5406.55it/s]\n"
          ]
        },
        {
          "output_type": "stream",
          "name": "stdout",
          "text": [
            "Train loss: 0.003367735995806709, Val loss: 0.005720631473329948\n",
            "Epoch:  81\n"
          ]
        },
        {
          "output_type": "stream",
          "name": "stderr",
          "text": [
            "100%|██████████| 50000/50000 [00:12<00:00, 3949.04it/s]\n"
          ]
        },
        {
          "output_type": "stream",
          "name": "stdout",
          "text": [
            "Train loss: 0.0033552841247570376, Val loss: 0.005723204202650267\n",
            "Epoch:  82\n"
          ]
        },
        {
          "output_type": "stream",
          "name": "stderr",
          "text": [
            "100%|██████████| 50000/50000 [00:13<00:00, 3777.19it/s]\n"
          ]
        },
        {
          "output_type": "stream",
          "name": "stdout",
          "text": [
            "Train loss: 0.0033429079617970296, Val loss: 0.005725455068461928\n",
            "Epoch:  83\n"
          ]
        },
        {
          "output_type": "stream",
          "name": "stderr",
          "text": [
            "100%|██████████| 50000/50000 [00:13<00:00, 3755.76it/s]\n"
          ]
        },
        {
          "output_type": "stream",
          "name": "stdout",
          "text": [
            "Train loss: 0.003330591331993047, Val loss: 0.005727284959053259\n",
            "Epoch:  84\n"
          ]
        },
        {
          "output_type": "stream",
          "name": "stderr",
          "text": [
            "100%|██████████| 50000/50000 [00:11<00:00, 4291.25it/s]\n"
          ]
        },
        {
          "output_type": "stream",
          "name": "stdout",
          "text": [
            "Train loss: 0.0033185119976838528, Val loss: 0.00572895093144876\n",
            "Epoch:  85\n"
          ]
        },
        {
          "output_type": "stream",
          "name": "stderr",
          "text": [
            "100%|██████████| 50000/50000 [00:09<00:00, 5235.17it/s]\n"
          ]
        },
        {
          "output_type": "stream",
          "name": "stdout",
          "text": [
            "Train loss: 0.0033067472117879015, Val loss: 0.005731067949360052\n",
            "Epoch:  86\n"
          ]
        },
        {
          "output_type": "stream",
          "name": "stderr",
          "text": [
            "100%|██████████| 50000/50000 [00:13<00:00, 3842.53it/s]\n"
          ]
        },
        {
          "output_type": "stream",
          "name": "stdout",
          "text": [
            "Train loss: 0.0032951851151930204, Val loss: 0.005733963101023691\n",
            "Epoch:  87\n"
          ]
        },
        {
          "output_type": "stream",
          "name": "stderr",
          "text": [
            "100%|██████████| 50000/50000 [00:13<00:00, 3728.26it/s]\n"
          ]
        },
        {
          "output_type": "stream",
          "name": "stdout",
          "text": [
            "Train loss: 0.003283660227257992, Val loss: 0.005737740302390596\n",
            "Epoch:  88\n"
          ]
        },
        {
          "output_type": "stream",
          "name": "stderr",
          "text": [
            "100%|██████████| 50000/50000 [00:12<00:00, 3859.95it/s]\n"
          ]
        },
        {
          "output_type": "stream",
          "name": "stdout",
          "text": [
            "Train loss: 0.003271816597442496, Val loss: 0.00574186047513777\n",
            "Epoch:  89\n"
          ]
        },
        {
          "output_type": "stream",
          "name": "stderr",
          "text": [
            "100%|██████████| 50000/50000 [00:10<00:00, 4634.96it/s]\n"
          ]
        },
        {
          "output_type": "stream",
          "name": "stdout",
          "text": [
            "Train loss: 0.0032602421777452595, Val loss: 0.005745955321882245\n",
            "Epoch:  90\n"
          ]
        },
        {
          "output_type": "stream",
          "name": "stderr",
          "text": [
            "100%|██████████| 50000/50000 [00:10<00:00, 4660.10it/s]\n"
          ]
        },
        {
          "output_type": "stream",
          "name": "stdout",
          "text": [
            "Train loss: 0.003249271620595065, Val loss: 0.0057506425009075796\n",
            "Epoch:  91\n"
          ]
        },
        {
          "output_type": "stream",
          "name": "stderr",
          "text": [
            "100%|██████████| 50000/50000 [00:13<00:00, 3761.53it/s]\n"
          ]
        },
        {
          "output_type": "stream",
          "name": "stdout",
          "text": [
            "Train loss: 0.0032386273698371882, Val loss: 0.005755550010906928\n",
            "Epoch:  92\n"
          ]
        },
        {
          "output_type": "stream",
          "name": "stderr",
          "text": [
            "100%|██████████| 50000/50000 [00:12<00:00, 3943.51it/s]\n"
          ]
        },
        {
          "output_type": "stream",
          "name": "stdout",
          "text": [
            "Train loss: 0.003228271207731706, Val loss: 0.005760376101945407\n",
            "Epoch:  93\n"
          ]
        },
        {
          "output_type": "stream",
          "name": "stderr",
          "text": [
            "100%|██████████| 50000/50000 [00:12<00:00, 3866.08it/s]\n"
          ]
        },
        {
          "output_type": "stream",
          "name": "stdout",
          "text": [
            "Train loss: 0.0032180082808481517, Val loss: 0.005764065394843228\n",
            "Epoch:  94\n"
          ]
        },
        {
          "output_type": "stream",
          "name": "stderr",
          "text": [
            "100%|██████████| 50000/50000 [00:09<00:00, 5268.46it/s]\n"
          ]
        },
        {
          "output_type": "stream",
          "name": "stdout",
          "text": [
            "Train loss: 0.0032076685356231057, Val loss: 0.005765161584235371\n",
            "Epoch:  95\n"
          ]
        },
        {
          "output_type": "stream",
          "name": "stderr",
          "text": [
            "100%|██████████| 50000/50000 [00:11<00:00, 4222.17it/s]\n"
          ]
        },
        {
          "output_type": "stream",
          "name": "stdout",
          "text": [
            "Train loss: 0.0031977827399463335, Val loss: 0.005764985884055789\n",
            "Epoch:  96\n"
          ]
        },
        {
          "output_type": "stream",
          "name": "stderr",
          "text": [
            "100%|██████████| 50000/50000 [00:13<00:00, 3800.85it/s]\n"
          ]
        },
        {
          "output_type": "stream",
          "name": "stdout",
          "text": [
            "Train loss: 0.003188078111456169, Val loss: 0.005764757418758157\n",
            "Epoch:  97\n"
          ]
        },
        {
          "output_type": "stream",
          "name": "stderr",
          "text": [
            "100%|██████████| 50000/50000 [00:12<00:00, 3875.27it/s]\n"
          ]
        },
        {
          "output_type": "stream",
          "name": "stdout",
          "text": [
            "Train loss: 0.0031784379668022703, Val loss: 0.005764135884093324\n",
            "Epoch:  98\n"
          ]
        },
        {
          "output_type": "stream",
          "name": "stderr",
          "text": [
            "100%|██████████| 50000/50000 [00:11<00:00, 4289.38it/s]\n"
          ]
        },
        {
          "output_type": "stream",
          "name": "stdout",
          "text": [
            "Train loss: 0.0031687910894326074, Val loss: 0.005762942592959868\n",
            "Epoch:  99\n"
          ]
        },
        {
          "output_type": "stream",
          "name": "stderr",
          "text": [
            "100%|██████████| 50000/50000 [00:09<00:00, 5379.76it/s]\n"
          ]
        },
        {
          "output_type": "stream",
          "name": "stdout",
          "text": [
            "Train loss: 0.003159215051536512, Val loss: 0.0057610492982527\n"
          ]
        }
      ],
      "source": [
        "train_loss, val_loss = classifier.fit_classifier(x_train, y_train, x_val, y_val)"
      ]
    },
    {
      "cell_type": "code",
      "source": [
        "plt.plot(train_loss)\n",
        "plt.plot(val_loss)\n",
        "plt.legend(['train', 'val'])\n",
        "plt.xlabel('Epoch')\n",
        "plt.ylabel('MSE-Loss')\n",
        "plt.show()"
      ],
      "metadata": {
        "colab": {
          "base_uri": "https://localhost:8080/",
          "height": 449
        },
        "id": "KyCskIvVh_rb",
        "outputId": "d4ebf5e6-c8be-418e-9da8-f2004e135831"
      },
      "execution_count": null,
      "outputs": [
        {
          "output_type": "display_data",
          "data": {
            "text/plain": [
              "<Figure size 640x480 with 1 Axes>"
            ],
            "image/png": "[encoded data removed]"
          },
          "metadata": {}
        }
      ]
    },
    {
      "cell_type": "code",
      "source": [
        "y_test.shape, x_test.shape"
      ],
      "metadata": {
        "colab": {
          "base_uri": "https://localhost:8080/"
        },
        "id": "65nFi7aco2pP",
        "outputId": "0ccb7780-4634-4d41-eb09-09aa1f4e96b6"
      },
      "execution_count": null,
      "outputs": [
        {
          "output_type": "execute_result",
          "data": {
            "text/plain": [
              "((10000,), (10000, 28, 28))"
            ]
          },
          "metadata": {},
          "execution_count": 20
        }
      ]
    },
    {
      "cell_type": "code",
      "source": [
        "# Test and eval\n",
        "conf_mat = np.zeros((10, 10), dtype=int)\n",
        "for x, y in zip(x_test.reshape(-1, 28*28), y_test):\n",
        "  y_hat = classifier.predict(x)\n",
        "  conf_mat[y, y_hat] += 1\n",
        "print(conf_mat)"
      ],
      "metadata": {
        "colab": {
          "base_uri": "https://localhost:8080/"
        },
        "id": "sL6_P7BAiS78",
        "outputId": "0fc38ccf-b68d-47d2-d75e-d95e039984bb"
      },
      "execution_count": null,
      "outputs": [
        {
          "output_type": "stream",
          "name": "stdout",
          "text": [
            "[[ 959    0    4    2    1    2    6    3    2    1]\n",
            " [   0 1108    6    2    0    4    4    1   10    0]\n",
            " [  13    4  958   12   13    0    6   15   10    1]\n",
            " [   4    0   19  929    1   19    0   11   23    4]\n",
            " [   1    0    7    1  931    2   12    4    1   23]\n",
            " [  11    2    5   37    8  795   13    4   12    5]\n",
            " [  15    2    9    0    6   10  908    0    8    0]\n",
            " [   6    9   21    5    6    2    0  955    5   19]\n",
            " [   7    3    6   28    3   11   10   12  893    1]\n",
            " [   8    5    1   19   42    5    0   18   15  896]]\n"
          ]
        }
      ]
    },
    {
      "cell_type": "code",
      "source": [
        "import seaborn as sns\n",
        "\n",
        "plt.title(\"Confusion Matrix\")\n",
        "# plt.matshow(conf_mat cmap=\"gray\")\n",
        "# plt.xticks(range(10))\n",
        "# plt.yticks(range(10))\n",
        "sns.heatmap(conf_mat, annot=True, fmt='d',\n",
        "            xticklabels=range(10), yticklabels=range(10))\n",
        "plt.xlabel(\"Pred\")\n",
        "plt.ylabel(\"True\")\n",
        "plt.show()\n",
        "\n",
        "metrics = calculate_metrics(conf_mat)\n",
        "print(f\"Accuracy: {np.mean(metrics['Accuracy']):.3f}\")\n",
        "print(f\"Precision: {np.mean(metrics['Precision']):.3f}\")\n",
        "print(f\"Recall: {np.mean(metrics['Recall']):.3f}\")\n",
        "print(f\"F1-Score: {np.mean(metrics['F1-Score']):.3f}\")\n"
      ],
      "metadata": {
        "colab": {
          "base_uri": "https://localhost:8080/",
          "height": 543
        },
        "id": "w7Ltkj-JpJ6p",
        "outputId": "370a92f4-cabe-4f3b-ef7b-03e9e7c605f8"
      },
      "execution_count": null,
      "outputs": [
        {
          "output_type": "display_data",
          "data": {
            "text/plain": [
              "<Figure size 640x480 with 2 Axes>"
            ],
            "image/png": "[encoded data removed]"
          },
          "metadata": {}
        },
        {
          "output_type": "stream",
          "name": "stdout",
          "text": [
            "Accuracy: 0.987\n",
            "Precision: 0.933\n",
            "Recall: 0.932\n",
            "F1-Score: 0.932\n"
          ]
        }
      ]
    },
    {
      "cell_type": "code",
      "source": [],
      "metadata": {
        "id": "BIjR-6mKsbSw"
      },
      "execution_count": null,
      "outputs": []
    }
  ],
  "metadata": {
    "colab": {
      "provenance": [],
      "authorship_tag": "ABX9TyO+yzupiNv4P/N7aD6TYB/c",
      "include_colab_link": true
    },
    "kernelspec": {
      "display_name": "Python 3",
      "name": "python3"
    },
    "language_info": {
      "name": "python"
    }
  },
  "nbformat": 4,
  "nbformat_minor": 0
}